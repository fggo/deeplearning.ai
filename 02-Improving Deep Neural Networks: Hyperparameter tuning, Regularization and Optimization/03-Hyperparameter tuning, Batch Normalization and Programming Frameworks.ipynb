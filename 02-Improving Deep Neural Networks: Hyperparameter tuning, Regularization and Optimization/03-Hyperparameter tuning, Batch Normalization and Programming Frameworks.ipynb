{
 "cells": [
  {
   "cell_type": "markdown",
   "metadata": {},
   "source": [
    "### Hyperparameter tuning\n",
    "* [Tuning process](#)\n",
    "* [Using an appropriate scale to pick hyperparameters](#)\n",
    "* [Hyperparameters tuning in practice: Pandas vs. Caviar](#)\n",
    "\n",
    "### Batch Normalization\n",
    "* [Normalizing activations in a network](#)\n",
    "* [Fitting Batch Norm into a neural network](#)\n",
    "* [Why does Batch Norm work?](#)\n",
    "* [Batch Norm at test time](#)\n",
    "\n",
    "### Multi-class classification\n",
    "* [Softmax Regression](#)\n",
    "* [Training a softmax classifier](#)\n",
    "\n",
    "### Introduction to programming frameworks\n",
    "* [Deep learning frameworks](#)\n",
    "* [TensorFlow](#)"
   ]
  },
  {
   "cell_type": "markdown",
   "metadata": {},
   "source": [
    "<img src=\"\" style=\"width:650px;height:400px; float: left;\">"
   ]
  },
  {
   "cell_type": "markdown",
   "metadata": {},
   "source": [
    "<img src=\"\" style=\"width:650px;height:400px; float: left;\">"
   ]
  },
  {
   "cell_type": "markdown",
   "metadata": {},
   "source": [
    "<img src=\"\" style=\"width:650px;height:400px; float: left;\">"
   ]
  },
  {
   "cell_type": "markdown",
   "metadata": {},
   "source": [
    "<img src=\"\" style=\"width:650px;height:400px; float: left;\">"
   ]
  }
 ],
 "metadata": {
  "kernelspec": {
   "display_name": "Python 3",
   "language": "python",
   "name": "python3"
  },
  "language_info": {
   "codemirror_mode": {
    "name": "ipython",
    "version": 3
   },
   "file_extension": ".py",
   "mimetype": "text/x-python",
   "name": "python",
   "nbconvert_exporter": "python",
   "pygments_lexer": "ipython3",
   "version": "3.6.5"
  }
 },
 "nbformat": 4,
 "nbformat_minor": 2
}
