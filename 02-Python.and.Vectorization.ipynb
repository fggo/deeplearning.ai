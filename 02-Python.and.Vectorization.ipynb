{
 "cells": [
  {
   "cell_type": "markdown",
   "metadata": {},
   "source": [
    "* [Vectorization](#vect)\n",
    "* [Vectorizing Logistic Regression](#vectlogreg)\n",
    "* [Broadcasting](#broadcasting)\n",
    "* [Python Numpy](#numpy)\n",
    "* [Explanation of Logistic Regression Cost function](#explanation-of-logistic-regression-cost-function)"
   ]
  },
  {
   "cell_type": "markdown",
   "metadata": {},
   "source": [
    "<img id=\"vect\" src=\"https://i.imgur.com/TxXjiYe.png\" style=\"width:650px;height:370px; float: left;\">"
   ]
  },
  {
   "cell_type": "code",
   "execution_count": 1,
   "metadata": {},
   "outputs": [
    {
     "name": "stdout",
     "output_type": "stream",
     "text": [
      "[1 2 3 4]\n",
      "[[1]\n",
      " [2]\n",
      " [3]\n",
      " [4]]\n"
     ]
    }
   ],
   "source": [
    "import numpy as np\n",
    "\n",
    "a = np.array([1,2,3,4])\n",
    "print(a)\n",
    "a = a.reshape(4,1)\n",
    "print(a)"
   ]
  },
  {
   "cell_type": "code",
   "execution_count": 2,
   "metadata": {},
   "outputs": [
    {
     "name": "stdout",
     "output_type": "stream",
     "text": [
      "250424.8350604418\n",
      "Vectorized version:16.0214900970459ms\n",
      "250424.83506043287\n",
      "For loop version:364.59803581237793ms\n"
     ]
    }
   ],
   "source": [
    "import time\n",
    "\n",
    "a = np.random.rand(1000000)\n",
    "b = np.random.rand(1000000)\n",
    "\n",
    "tic = time.time()\n",
    "c = np.dot(a,b)\n",
    "toc = time.time()\n",
    "\n",
    "print(c)\n",
    "print(\"Vectorized version:\" + str(1000*(toc-tic)) + \"ms\")\n",
    "\n",
    "c = 0\n",
    "tic = time.time()\n",
    "for i in range(1000000):\n",
    "    c += a[i]*b[i]\n",
    "toc = time.time()\n",
    "\n",
    "print(c)\n",
    "print(\"For loop version:\" + str(1000*(toc-tic)) + \"ms\")"
   ]
  },
  {
   "cell_type": "markdown",
   "metadata": {},
   "source": [
    "<img src=\"https://i.imgur.com/dazXdzS.png\" style=\"width:650px;height:380px; float: left;\">"
   ]
  },
  {
   "cell_type": "markdown",
   "metadata": {},
   "source": [
    "<img src=\"https://i.imgur.com/TAYpdTB.png\" style=\"width:650px;height:380px; float: left;\">"
   ]
  },
  {
   "cell_type": "markdown",
   "metadata": {},
   "source": [
    "<img src=\"https://i.imgur.com/kWcoJQh.png\" style=\"width:650px;height:380px; float: left;\">"
   ]
  },
  {
   "cell_type": "markdown",
   "metadata": {},
   "source": [
    "<img id=\"vectlogreg\" src=\"https://i.imgur.com/H42svVk.png\" style=\"width:650px;height:380px; float: left;\">"
   ]
  },
  {
   "cell_type": "markdown",
   "metadata": {},
   "source": [
    "$$z = [z^{(1)}, ..., z^{(m)}] = [w^{T}x^{(1)}+b, ..., w^{T}x^{(m)}+b] = np.dot(w\\cdot T, x) + b$$\n",
    "\n",
    "$$A = \\sigma(z) = [\\sigma(w^{T}x^{(1)}+b), ..., \\sigma(w^{T}x^{(m)}+b)] = [a^{(1)}, ... , a^{(m)}]$$"
   ]
  },
  {
   "cell_type": "markdown",
   "metadata": {},
   "source": [
    "<img src=\"https://i.imgur.com/Xng06L5.png\" style=\"width:650px;height:380px; float: left;\">"
   ]
  },
  {
   "cell_type": "markdown",
   "metadata": {},
   "source": [
    "<img src=\"https://i.imgur.com/SAyvy3n.png\" style=\"width:650px;height:380px; float: left;\">"
   ]
  },
  {
   "cell_type": "markdown",
   "metadata": {},
   "source": [
    "<img id=\"broadcasting\" src=\"https://i.imgur.com/yKUl3eP.png\" style=\"width:650px;height:400px; float: left;\">"
   ]
  },
  {
   "cell_type": "code",
   "execution_count": 3,
   "metadata": {},
   "outputs": [
    {
     "name": "stdout",
     "output_type": "stream",
     "text": [
      "[ 59.   239.42 152.    76.9 ]\n",
      "[125.42 165.2  236.7 ]\n"
     ]
    }
   ],
   "source": [
    "import numpy as np\n",
    "\n",
    "A = np.array([[56.0, 0.42, 1.0, 68.0],\n",
    "             [1.2,104.0,52.0,8.0],\n",
    "             [1.8,135.0,99.0,0.9]])\n",
    "\n",
    "print(A.sum(axis=0))\n",
    "print(A.sum(axis=1))"
   ]
  },
  {
   "cell_type": "code",
   "execution_count": 4,
   "metadata": {},
   "outputs": [
    {
     "name": "stdout",
     "output_type": "stream",
     "text": [
      "[ 59.   239.42 152.    76.9 ]\n",
      "[[0.94915254 0.00175424 0.00657895 0.88426528]\n",
      " [0.02033898 0.43438309 0.34210526 0.10403121]\n",
      " [0.03050847 0.56386267 0.65131579 0.01170351]]\n"
     ]
    }
   ],
   "source": [
    "cal = A.sum(axis=0)\n",
    "print(cal)\n",
    "\n",
    "percentage = A/cal.reshape(1,4)\n",
    "print(percentage)"
   ]
  },
  {
   "cell_type": "markdown",
   "metadata": {},
   "source": [
    "<img src=\"https://i.imgur.com/W3neiIl.png\" style=\"width:650px;height:400px; float: left;\">"
   ]
  },
  {
   "cell_type": "markdown",
   "metadata": {},
   "source": [
    "<img src=\"https://i.imgur.com/6TyoPUd.png\" style=\"width:650px;height:400px; float: left;\">"
   ]
  },
  {
   "cell_type": "markdown",
   "metadata": {},
   "source": [
    "<img id=\"numpy\" src=\"https://i.imgur.com/ydP5Lq3.png\" style=\"width:620px;height:340px; float: left;\">"
   ]
  },
  {
   "cell_type": "markdown",
   "metadata": {},
   "source": [
    "DO NOT USE $$a=np.random.randn(5)$$\n",
    "USE $$a=np.random.randn(5,1)$$"
   ]
  },
  {
   "cell_type": "code",
   "execution_count": 5,
   "metadata": {},
   "outputs": [
    {
     "name": "stdout",
     "output_type": "stream",
     "text": [
      "[ 0.81703899 -1.64804466 -1.58170196  1.33225987  0.88114986]\n"
     ]
    }
   ],
   "source": [
    "import numpy as np\n",
    "\n",
    "a = np.random.randn(5)\n",
    "print(a)"
   ]
  },
  {
   "cell_type": "code",
   "execution_count": 6,
   "metadata": {},
   "outputs": [
    {
     "name": "stdout",
     "output_type": "stream",
     "text": [
      "(5,)\n"
     ]
    }
   ],
   "source": [
    "#DO NOT USE rank 1 array(neither row/column vector)\n",
    "print(a.shape)"
   ]
  },
  {
   "cell_type": "code",
   "execution_count": 7,
   "metadata": {},
   "outputs": [
    {
     "name": "stdout",
     "output_type": "stream",
     "text": [
      "[ 0.81703899 -1.64804466 -1.58170196  1.33225987  0.88114986]\n"
     ]
    }
   ],
   "source": [
    "print(a.T)"
   ]
  },
  {
   "cell_type": "code",
   "execution_count": 8,
   "metadata": {},
   "outputs": [
    {
     "name": "stdout",
     "output_type": "stream",
     "text": [
      "8.436726417092613\n"
     ]
    }
   ],
   "source": [
    "print(np.dot(a,a.T))"
   ]
  },
  {
   "cell_type": "code",
   "execution_count": 9,
   "metadata": {},
   "outputs": [
    {
     "name": "stdout",
     "output_type": "stream",
     "text": [
      "[[ 2.74656694]\n",
      " [ 0.90541408]\n",
      " [ 1.48085694]\n",
      " [ 0.08489925]\n",
      " [-2.11077875]]\n"
     ]
    }
   ],
   "source": [
    "# column vector\n",
    "a = np.random.randn(5,1)\n",
    "print(a)"
   ]
  },
  {
   "cell_type": "code",
   "execution_count": 10,
   "metadata": {},
   "outputs": [
    {
     "name": "stdout",
     "output_type": "stream",
     "text": [
      "[[ 2.74656694  0.90541408  1.48085694  0.08489925 -2.11077875]]\n"
     ]
    }
   ],
   "source": [
    "print(a.T)"
   ]
  },
  {
   "cell_type": "code",
   "execution_count": 11,
   "metadata": {},
   "outputs": [
    {
     "name": "stdout",
     "output_type": "stream",
     "text": [
      "[[ 7.54362995e+00  2.48678037e+00  4.06727272e+00  2.33181486e-01\n",
      "  -5.79739512e+00]\n",
      " [ 2.48678037e+00  8.19774654e-01  1.34078872e+00  7.68689804e-02\n",
      "  -1.91112880e+00]\n",
      " [ 4.06727272e+00  1.34078872e+00  2.19293728e+00  1.25723651e-01\n",
      "  -3.12576136e+00]\n",
      " [ 2.33181486e-01  7.68689804e-02  1.25723651e-01  7.20788344e-03\n",
      "  -1.79203542e-01]\n",
      " [-5.79739512e+00 -1.91112880e+00 -3.12576136e+00 -1.79203542e-01\n",
      "   4.45538692e+00]]\n"
     ]
    }
   ],
   "source": [
    "print(np.dot(a,a.T))"
   ]
  },
  {
   "cell_type": "code",
   "execution_count": 12,
   "metadata": {},
   "outputs": [],
   "source": [
    "assert(a.shape == (5,1))"
   ]
  },
  {
   "cell_type": "markdown",
   "metadata": {},
   "source": [
    "# Explanation of Logistic Regression Cost function\n",
    "$$\\hat{y}^{(i)}= \\sigma(w^T X^{(i)} + b) = \\sigma(z^{(i)}) = \\frac{1}{1+e^{-z}},\\ where\\ z^{(i)}= w^T X^{(i)} + b$$\n",
    "\n",
    "$$\\hat{y}= P(y=1|X)$$\n",
    "\n",
    "$$If\\ y=1:\\ P(y|x) = \\hat{y}$$\n",
    "$$If\\ y=0:\\ P(y|x) = 1 - \\hat{y}$$\n",
    "\n",
    "$$P(y|x) = \\hat{y}^{y}\\cdot(1 - \\hat{y})^{(1-y)}$$\n",
    "\n",
    "$$\\log{P(y|x)} = \\log{\\hat{y}^{y}\\cdot(1 - \\hat{y})^{(1-y)}} = y\\cdot\\log{\\hat{y}} + (1 - y)\\cdot\\log(1-\\hat{y}) = -L(\\hat{y}, y)$$"
   ]
  },
  {
   "cell_type": "markdown",
   "metadata": {},
   "source": [
    "# Cost on m examples\n",
    "find maximum likelyhood estimation; choose parameters to maximize probability\n",
    "$$\\log{p(labels\\ in\\ training\\ set)} = \\log{\\prod_{i=1}^{m}p(y^{(i)}|x^{(i)})} = \\sum_{i=1}^{m}\\log{p(y^{(i)}|x^{(i)})}$$\n",
    "$$ = \\sum_{i=1}^{m}-L(\\hat{y}^{(i)}, y^{(i)})$$\n",
    "\n",
    "minimize cost to maximize the probability\n",
    "$$Cost\\ = J(w,b) = \\frac{1}{m}\\cdot\\sum_{i=1}^{m}-L(\\hat{y}^{(i)}, y^{(i)})$$"
   ]
  }
 ],
 "metadata": {
  "kernelspec": {
   "display_name": "Python 3",
   "language": "python",
   "name": "python3"
  },
  "language_info": {
   "codemirror_mode": {
    "name": "ipython",
    "version": 3
   },
   "file_extension": ".py",
   "mimetype": "text/x-python",
   "name": "python",
   "nbconvert_exporter": "python",
   "pygments_lexer": "ipython3",
   "version": "3.6.5"
  }
 },
 "nbformat": 4,
 "nbformat_minor": 2
}
