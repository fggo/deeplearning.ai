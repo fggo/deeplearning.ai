{
 "cells": [
  {
   "cell_type": "markdown",
   "metadata": {},
   "source": [
    "#### * [Neural Network Overview](#nn)\n",
    "* [Neural Network Representation](#nnrep)\n",
    "* [Vectorizing Across Multiple Examples](#vecm)\n",
    "* [Explanation for Vectorized Implementation](#veci)\n",
    "* [Activation Functions](#af)\n",
    "* [Why do you need non-linear activation functions?](#why)\n",
    "* [Derivatives of activation functions](#dr)\n",
    "* [Gradient descent for Neural Networks](#gd)\n",
    "* [Backpropagation intuition](#back)\n",
    "* [Random Initialization](#rand)"
   ]
  },
  {
   "cell_type": "markdown",
   "metadata": {},
   "source": [
    "<div id=\"nn\">\n",
    "    <img src=\"https://i.imgur.com/73oPtj6.png\" style=\"width:700px;height:400px; float: left;\">\n",
    "</div>"
   ]
  },
  {
   "cell_type": "markdown",
   "metadata": {},
   "source": [
    "<div id=\"nnrep\">\n",
    "    <img src=\"https://i.imgur.com/rtdBLyj.png\" style=\"width:700px;height:400px; float: left;\">\n",
    "</div>"
   ]
  },
  {
   "cell_type": "markdown",
   "metadata": {},
   "source": [
    "<img src=\"https://i.imgur.com/kTd417e.png\" style=\"width:700px;height:400px; float: left;\">"
   ]
  },
  {
   "cell_type": "markdown",
   "metadata": {},
   "source": [
    "<img src=\"https://i.imgur.com/tYB9G3H.png\" style=\"width:700px;height:400px; float: left;\">"
   ]
  },
  {
   "cell_type": "markdown",
   "metadata": {},
   "source": [
    "<img src=\"https://i.imgur.com/F9kMmTs.png\" style=\"width:700px;height:400px; float: left;\">"
   ]
  },
  {
   "cell_type": "markdown",
   "metadata": {},
   "source": [
    "<img src=\"https://i.imgur.com/psB29lQ.png\" style=\"width:700px;height:400px; float: left;\">"
   ]
  },
  {
   "cell_type": "markdown",
   "metadata": {},
   "source": [
    "<div id=\"vecm\">\n",
    "    <img src=\"https://i.imgur.com/9hqY728.png\" style=\"width:700px;height:400px; float: left;\">\n",
    "</div>"
   ]
  },
  {
   "cell_type": "markdown",
   "metadata": {},
   "source": [
    "<img src=\"https://i.imgur.com/KAjtoZ0.png\" style=\"width:700px;height:400px; float: left;\">"
   ]
  },
  {
   "cell_type": "markdown",
   "metadata": {},
   "source": [
    "<div id=\"veci\">\n",
    "    <img src=\"https://i.imgur.com/k7g9ZLH.png\" style=\"width:700px;height:400px; float: left;\">\n",
    "</div>"
   ]
  },
  {
   "cell_type": "markdown",
   "metadata": {},
   "source": [
    "<img src=\"https://i.imgur.com/19VaWoe.png\" style=\"width:700px;height:400px; float: left;\">"
   ]
  },
  {
   "cell_type": "markdown",
   "metadata": {},
   "source": [
    "<div id=\"af\">\n",
    "    <img src=\"https://i.imgur.com/GAkZxzG.png\" style=\"width:700px;height:400px; float: left;\">\n",
    "</div>"
   ]
  },
  {
   "cell_type": "markdown",
   "metadata": {},
   "source": [
    "<img src=\"https://i.imgur.com/oSLHbTi.png\" style=\"width:700px;height:400px; float: left;\">"
   ]
  },
  {
   "cell_type": "markdown",
   "metadata": {},
   "source": [
    "<div id=\"why\">\n",
    "    <img src=\"https://i.imgur.com/2eD0xhO.png\" style=\"width:700px;height:400px; float: left;\">\n",
    "</div>"
   ]
  },
  {
   "cell_type": "markdown",
   "metadata": {},
   "source": [
    "<div id=\"dr\">\n",
    "    <img src=\"https://i.imgur.com/4JG20BB.png\" style=\"width:700px;height:400px; float: left;\">\n",
    "</div>"
   ]
  },
  {
   "cell_type": "markdown",
   "metadata": {},
   "source": [
    "<img src=\"https://i.imgur.com/o3i8MrL.png\" style=\"width:700px;height:400px; float: left;\">"
   ]
  },
  {
   "cell_type": "markdown",
   "metadata": {},
   "source": [
    "<img src=\"https://i.imgur.com/m3OdTLk.png\" style=\"width:700px;height:400px; float: left;\">"
   ]
  },
  {
   "cell_type": "markdown",
   "metadata": {},
   "source": [
    "<div id=\"gd\">\n",
    "    <img src=\"https://i.imgur.com/corP5Jo.png\" style=\"width:700px;height:400px; float: left;\">\n",
    "</div>"
   ]
  },
  {
   "cell_type": "markdown",
   "metadata": {},
   "source": [
    "<img src=\"https://i.imgur.com/okskvtk.png\" style=\"width:700px;height:400px; float: left;\">"
   ]
  },
  {
   "cell_type": "markdown",
   "metadata": {},
   "source": [
    "<div id=\"back\">\n",
    "    <img src=\"https://i.imgur.com/AsZoj55.png\" style=\"width:700px;height:400px; float: left;\">\n",
    "</div>"
   ]
  },
  {
   "cell_type": "markdown",
   "metadata": {},
   "source": [
    "<img src=\"https://i.imgur.com/RCMV3uW.png\" style=\"width:700px;height:400px; float: left;\">"
   ]
  },
  {
   "cell_type": "markdown",
   "metadata": {},
   "source": [
    "<img src=\"https://i.imgur.com/yroXRKB.png\" style=\"width:700px;height:400px; float: left;\">"
   ]
  },
  {
   "cell_type": "markdown",
   "metadata": {},
   "source": [
    "<img src=\"https://i.imgur.com/JNR4sYx.png\" style=\"width:700px;height:400px; float: left;\">"
   ]
  },
  {
   "cell_type": "markdown",
   "metadata": {},
   "source": [
    "<div id=\"rand\">\n",
    "    <img src=\"https://i.imgur.com/E4T0M44.png\" style=\"width:700px;height:400px; float: left;\">\n",
    "</div>"
   ]
  },
  {
   "cell_type": "markdown",
   "metadata": {},
   "source": [
    "<img src=\"https://i.imgur.com/qWQGqzS.png\" style=\"width:700px;height:400px; float: left;\">"
   ]
  },
  {
   "cell_type": "code",
   "execution_count": 3,
   "metadata": {},
   "outputs": [
    {
     "name": "stdout",
     "output_type": "stream",
     "text": [
      "(4, 1)\n"
     ]
    }
   ],
   "source": [
    "import numpy as np\n",
    "\n",
    "A = np.random.randn(4,3)\n",
    "B = np.sum(A, axis = 1, keepdims = True)\n",
    "print(B.shape)"
   ]
  }
 ],
 "metadata": {
  "kernelspec": {
   "display_name": "Python 3",
   "language": "python",
   "name": "python3"
  },
  "language_info": {
   "codemirror_mode": {
    "name": "ipython",
    "version": 3
   },
   "file_extension": ".py",
   "mimetype": "text/x-python",
   "name": "python",
   "nbconvert_exporter": "python",
   "pygments_lexer": "ipython3",
   "version": "3.6.5"
  }
 },
 "nbformat": 4,
 "nbformat_minor": 2
}
